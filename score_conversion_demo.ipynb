{
 "cells": [
  {
   "cell_type": "code",
   "execution_count": 1,
   "metadata": {
    "collapsed": false
   },
   "outputs": [],
   "source": [
    "from tomato.symbolic.ScoreConverter import ScoreConverter\n",
    "import pprint \n",
    "import os"
   ]
  },
  {
   "cell_type": "code",
   "execution_count": 2,
   "metadata": {
    "collapsed": false
   },
   "outputs": [],
   "source": [
    "# score filepaths\n",
    "txt_filename = os.path.join('ussak--sazsemaisi--aksaksemai----neyzen_aziz_dede',\n",
    "                            'ussak--sazsemaisi--aksaksemai----neyzen_aziz_dede.txt')\n",
    "mu2_filename = os.path.join('ussak--sazsemaisi--aksaksemai----neyzen_aziz_dede',\n",
    "                            'ussak--sazsemaisi--aksaksemai----neyzen_aziz_dede.mu2')\n",
    "\n",
    "# only needed if the filename is modified from the SymbTr naming convention\n",
    "symbtr_name = 'ussak--sazsemaisi--aksaksemai----neyzen_aziz_dede'\n",
    "mbid = 'e7924b0d-c8a0-4b4a-b253-8eec898eac1e'\n",
    "\n",
    "# instantiate analyzer object\n",
    "scoreConverter = ScoreConverter()\n"
   ]
  },
  {
   "cell_type": "markdown",
   "metadata": {},
   "source": [
    "You can use the single line call \"convert,\" which does all the available conversions,\n",
    "*[txt + mu2] => MusicXML => LilyPond => svg*, simultaneously"
   ]
  },
  {
   "cell_type": "code",
   "execution_count": 3,
   "metadata": {
    "collapsed": false
   },
   "outputs": [],
   "source": [
    "xml_output, ly_output, svg_output, txt_ly_mapping = scoreConverter.convert(\n",
    "    txt_filename, mu2_filename, symbtr_name=symbtr_name, mbid=mbid, \n",
    "    render_metadata=True, xml_out=None, ly_out=None, svg_out=None)\n"
   ]
  },
  {
   "cell_type": "markdown",
   "metadata": {},
   "source": [
    "... or you can call all the methods individually."
   ]
  },
  {
   "cell_type": "code",
   "execution_count": 4,
   "metadata": {
    "collapsed": false
   },
   "outputs": [],
   "source": [
    "# convert symbtr-txt file to MusicXML format. Use the metadata in the mu2 header as\n",
    "# complementary information\n",
    "xml_str = scoreConverter.txt_mu2_to_musicxml(txt_filename, mu2_filename, xml_out=None,\n",
    "                                             symbtr_name=symbtr_name, mbid=mbid)\n",
    "\n",
    "# convert the MusicXML to LilyPond\n",
    "ly_str, txt_ly_mapping = scoreConverter.musicxml_to_lilypond(\n",
    "    xml_str, ly_out=None, render_metadata=False)\n",
    "\n",
    "# convert the LilyPond to svg\n",
    "svg = scoreConverter.lilypond_to_svg(ly_str, svg_out=None)\n"
   ]
  }
 ],
 "metadata": {
  "kernelspec": {
   "display_name": "Python 2",
   "language": "python",
   "name": "python2"
  },
  "language_info": {
   "codemirror_mode": {
    "name": "ipython",
    "version": 2
   },
   "file_extension": ".py",
   "mimetype": "text/x-python",
   "name": "python",
   "nbconvert_exporter": "python",
   "pygments_lexer": "ipython2",
   "version": "2.7.6"
  }
 },
 "nbformat": 4,
 "nbformat_minor": 0
}
