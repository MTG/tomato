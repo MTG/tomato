{
 "cells": [
  {
   "cell_type": "code",
   "execution_count": 1,
   "metadata": {
    "collapsed": true
   },
   "outputs": [],
   "source": [
    "from fileoperations.fileoperations import get_filenames_in_dir\n",
    "import json\n",
    "import os\n",
    "from morty.pitchdistribution import PitchDistribution\n",
    "import pickle"
   ]
  },
  {
   "cell_type": "markdown",
   "metadata": {},
   "source": [
    "We use the features that are already computed for [DLfM 2016](https://github.com/sertansenturk/makam_recognition_experiments/tree/dlfm2016). \n",
    "If you want to compute from the start, you can refer to the [feature extraction and training notebook](https://github.com/sertansenturk/makam_recognition_experiments/blob/dlfm2016/setup_feature_training.ipynb) in that repository."
   ]
  },
  {
   "cell_type": "code",
   "execution_count": 2,
   "metadata": {
    "collapsed": false
   },
   "outputs": [],
   "source": [
    "# get the training data with the best performing parameters\n",
    "parameter_str = 'pcd--7_5--15_0'\n",
    "experiment_folder = '../../../../../experiments/dlfm_makam_recognition/data/features/'\n",
    "\n",
    "training_folder = os.path.join(experiment_folder, parameter_str)\n",
    "\n",
    "# get the relevant files storing the data points\n",
    "training_files = get_filenames_in_dir(training_folder, keyword='*pdf.json')[0]"
   ]
  },
  {
   "cell_type": "code",
   "execution_count": 3,
   "metadata": {
    "collapsed": false
   },
   "outputs": [],
   "source": [
    "# instantiate the model\n",
    "model = []\n",
    "for j in training_files:\n",
    "    training_datum = json.load(open(j))\n",
    "    training_datum['feature'] = PitchDistribution.from_dict(training_datum['feature'])\n",
    "    \n",
    "    model.append(training_datum)\n",
    "\n",
    "# save to pickle\n",
    "save_file = \"./training_model--%s--%s.pkl\" %(parameter_str, 'dlfm2016')\n",
    "pickle.dump(model, open(save_file, 'w'))\n"
   ]
  }
 ],
 "metadata": {
  "kernelspec": {
   "display_name": "Python 2",
   "language": "python",
   "name": "python2"
  },
  "language_info": {
   "codemirror_mode": {
    "name": "ipython",
    "version": 2
   },
   "file_extension": ".py",
   "mimetype": "text/x-python",
   "name": "python",
   "nbconvert_exporter": "python",
   "pygments_lexer": "ipython2",
   "version": "2.7.11+"
  }
 },
 "nbformat": 4,
 "nbformat_minor": 1
}
