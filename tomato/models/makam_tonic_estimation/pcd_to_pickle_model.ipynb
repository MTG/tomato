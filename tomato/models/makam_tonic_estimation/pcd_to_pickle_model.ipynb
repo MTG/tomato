{
 "cells": [
  {
   "cell_type": "code",
   "execution_count": 1,
   "metadata": {},
   "outputs": [],
   "source": [
    "import glob\n",
    "import json\n",
    "import os\n",
    "from tomato.audio.pitchdistribution import PitchDistribution\n",
    "import pickle\n",
    "from tomato.io import IO"
   ]
  },
  {
   "cell_type": "markdown",
   "metadata": {},
   "source": [
    "We use the features that are already computed for [DLfM 2016](https://github.com/sertansenturk/makam_recognition_experiments/tree/dlfm2016). \n",
    "If you want to compute from the start, you can refer to the [feature extraction and training notebook](https://github.com/sertansenturk/makam_recognition_experiments/blob/dlfm2016/setup_feature_training.ipynb) in that repository."
   ]
  },
  {
   "cell_type": "code",
   "execution_count": 2,
   "metadata": {},
   "outputs": [
    {
     "name": "stdout",
     "output_type": "stream",
     "text": [
      "Read 1000 training files\n"
     ]
    },
    {
     "data": {
      "text/plain": [
       "['../../../../../experiments/makam_recognition_experiments/data/features/pcd--7_5--15_0/135415d2-0df5-454a-bd14-d0482d558390--pdf.json',\n",
       " '../../../../../experiments/makam_recognition_experiments/data/features/pcd--7_5--15_0/88e95b47-aa5a-4a45-ad7a-51b68138affc--pdf.json',\n",
       " '../../../../../experiments/makam_recognition_experiments/data/features/pcd--7_5--15_0/c79290ea-2b38-41d1-ae53-bce6c12682d1--pdf.json',\n",
       " '../../../../../experiments/makam_recognition_experiments/data/features/pcd--7_5--15_0/9df6ac0f-60fa-4ffa-ac25-a1300c5d5e07--pdf.json',\n",
       " '../../../../../experiments/makam_recognition_experiments/data/features/pcd--7_5--15_0/02fa6e35-2962-4ef4-9f75-bf8d712f9c07--pdf.json']"
      ]
     },
     "metadata": {},
     "output_type": "display_data"
    }
   ],
   "source": [
    "# get the training data with the best performing parameters\n",
    "parameter_str = 'pcd--7_5--15_0'\n",
    "experiment_folder = '../../../../../experiments/makam_recognition_experiments/data/features/'\n",
    "\n",
    "training_folder = os.path.join(experiment_folder, parameter_str)\n",
    "\n",
    "# get the relevant files storing the data points\n",
    "training_files = glob.glob(training_folder + '/*pdf.json')\n",
    "\n",
    "print(\"Read %d training files\" % (len(training_files)))\n",
    "display(training_files[:5])"
   ]
  },
  {
   "cell_type": "code",
   "execution_count": 3,
   "metadata": {},
   "outputs": [],
   "source": [
    "# instantiate the model\n",
    "model = []\n",
    "for j in training_files:\n",
    "    training_datum = json.load(open(j))\n",
    "    training_datum['feature'] = PitchDistribution.from_dict(training_datum['feature'])\n",
    "    \n",
    "    # make sure the training labels are slugified and lowercase\n",
    "    training_datum['mode'] = IO.slugify_tr(training_datum['mode']).lower()\n",
    "    \n",
    "    model.append(training_datum)\n",
    "\n",
    "# save to pickle\n",
    "save_file = \"./training_model--%s--%s.pkl\" %(parameter_str, 'dlfm2016')\n",
    "pickle.dump(model, open(save_file, 'wb'))\n"
   ]
  }
 ],
 "metadata": {
  "kernelspec": {
   "display_name": "Python 3",
   "language": "python",
   "name": "python3"
  },
  "language_info": {
   "codemirror_mode": {
    "name": "ipython",
    "version": 3
   },
   "file_extension": ".py",
   "mimetype": "text/x-python",
   "name": "python",
   "nbconvert_exporter": "python",
   "pygments_lexer": "ipython3",
   "version": "3.5.2"
  }
 },
 "nbformat": 4,
 "nbformat_minor": 1
}
