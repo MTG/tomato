{
 "cells": [
  {
   "cell_type": "code",
   "execution_count": 1,
   "metadata": {},
   "outputs": [],
   "source": [
    "from tomato.symbolic.symbtranalyzer import SymbTrAnalyzer\n",
    "from tomato.metadata.work import Work\n",
    "import os\n",
    "from pprint import pprint\n"
   ]
  },
  {
   "cell_type": "code",
   "execution_count": 2,
   "metadata": {},
   "outputs": [],
   "source": [
    "# symbtr name, \n",
    "# it is needed if the filename is modified from the SymbTr naming convention\n",
    "symbtr_name = 'ussak--sazsemaisi--aksaksemai----neyzen_aziz_dede'\n",
    "\n",
    "# score filepaths\n",
    "txt_filename = os.path.join(symbtr_name, symbtr_name + '.txt')\n",
    "mu2_filename = os.path.join(symbtr_name, symbtr_name + '.mu2')\n",
    "\n",
    "# instantiate analyzer object\n",
    "scoreAnalyzer = SymbTrAnalyzer(verbose=True)\n"
   ]
  },
  {
   "cell_type": "markdown",
   "metadata": {},
   "source": [
    "You can use the single line call \"analyze,\" which does all the available analysis simultaneously"
   ]
  },
  {
   "cell_type": "code",
   "execution_count": 3,
   "metadata": {},
   "outputs": [
    {
     "name": "stdout",
     "output_type": "stream",
     "text": [
      "Automatic pdb calling has been turned ON\n",
      "- Automatic phrase segmentation on the SymbTr-txt file: ussak--sazsemaisi--aksaksemai----neyzen_aziz_dede/ussak--sazsemaisi--aksaksemai----neyzen_aziz_dede.txt\n",
      "  The call took 9.71 seconds to execute.\n"
     ]
    }
   ],
   "source": [
    "%pdb\n",
    "score_data = scoreAnalyzer.analyze(\n",
    "    txt_filename, None, symbtr_name=symbtr_name)\n"
   ]
  },
  {
   "cell_type": "code",
   "execution_count": 4,
   "metadata": {},
   "outputs": [
    {
     "name": "stdout",
     "output_type": "stream",
     "text": [
      "{'composer': {'mbid': 'a6775723-69b6-4997-82da-bf230b1f8655',\n",
      "              'name': 'Neyzen Aziz Dede',\n",
      "              'symbtr_slug': 'neyzen_aziz_dede'},\n",
      " 'duration': {'unit': 'second', 'value': 275.821},\n",
      " 'form': {'attribute_key': 'sazsemaisi',\n",
      "          'mb_attribute': 'Sazsemaisi',\n",
      "          'source': 'http://musicbrainz.org/work/e7924b0d-c8a0-4b4a-b253-8eec898eac1e',\n",
      "          'symbtr_slug': 'sazsemaisi'},\n",
      " 'language': 'zxx',\n",
      " 'lyricist': {},\n",
      " 'makam': {'attribute_key': 'ussak',\n",
      "           'mb_attribute': 'Uşşak',\n",
      "           'source': 'http://musicbrainz.org/work/e7924b0d-c8a0-4b4a-b253-8eec898eac1e',\n",
      "           'symbtr_slug': 'ussak'},\n",
      " 'number_of_notes': 680,\n",
      " 'recordings': [{'mbid': '86721a3a-268f-4422-8803-73a196d2a571',\n",
      "                 'title': 'Uşşak Sazsemaisi'},\n",
      "                {'mbid': '9a7d391f-90a6-4f2d-a0d2-5e6a5365b149',\n",
      "                 'title': 'Uşşak Saz Semaisi'},\n",
      "                {'mbid': '9b869a16-0ab0-43a2-a51e-2a03e9484e70',\n",
      "                 'title': 'Uşşak Saz Semaisi'},\n",
      "                {'mbid': 'f970f1e0-0be9-4914-8302-709a0eac088e',\n",
      "                 'title': 'Uşşak Sazsemaisi'}],\n",
      " 'scores': ['ussak--sazsemaisi--aksaksemai----neyzen_aziz_dede'],\n",
      " 'symbtr': 'ussak--sazsemaisi--aksaksemai----neyzen_aziz_dede',\n",
      " 'tonic': 'A4',\n",
      " 'url': 'http://musicbrainz.org/work/e7924b0d-c8a0-4b4a-b253-8eec898eac1e',\n",
      " 'usul': {'attribute_key': 'aksaksemai',\n",
      "          'mb_attribute': 'Aksaksemai',\n",
      "          'source': 'http://musicbrainz.org/work/e7924b0d-c8a0-4b4a-b253-8eec898eac1e',\n",
      "          'symbtr_slug': 'aksaksemai'},\n",
      " 'work': {'mbid': 'e7924b0d-c8a0-4b4a-b253-8eec898eac1e',\n",
      "          'symbtr_slug': '',\n",
      "          'title': 'Uşşak Saz Semaisi'}}\n"
     ]
    }
   ],
   "source": [
    "# pretty print the metadata\n",
    "pprint(score_data['metadata'])\n"
   ]
  },
  {
   "cell_type": "markdown",
   "metadata": {},
   "source": [
    "... or you can call all the methods individually\n"
   ]
  },
  {
   "cell_type": "code",
   "execution_count": 5,
   "metadata": {},
   "outputs": [
    {
     "name": "stdout",
     "output_type": "stream",
     "text": [
      "- Automatic phrase segmentation on the SymbTr-txt file: ussak--sazsemaisi--aksaksemai----neyzen_aziz_dede/ussak--sazsemaisi--aksaksemai----neyzen_aziz_dede.txt\n",
      "  The call took 8.93 seconds to execute.\n"
     ]
    },
    {
     "ename": "AttributeError",
     "evalue": "type object 'Work' has no attribute 'get_mbids'",
     "output_type": "error",
     "traceback": [
      "\u001b[0;31m---------------------------------------------------------------------------\u001b[0m",
      "\u001b[0;31mAttributeError\u001b[0m                            Traceback (most recent call last)",
      "\u001b[0;32m<ipython-input-5-a97864e2a475>\u001b[0m in \u001b[0;36m<module>\u001b[0;34m()\u001b[0m\n\u001b[1;32m      7\u001b[0m \u001b[0;31m# Note 2: very rare but there can be more that one mbid returned. We are going to use\u001b[0m\u001b[0;34m\u001b[0m\u001b[0;34m\u001b[0m\u001b[0m\n\u001b[1;32m      8\u001b[0m \u001b[0;31m#         the first work to get fetch the metadata\u001b[0m\u001b[0;34m\u001b[0m\u001b[0;34m\u001b[0m\u001b[0m\n\u001b[0;32m----> 9\u001b[0;31m \u001b[0mmbid\u001b[0m \u001b[0;34m=\u001b[0m \u001b[0mWork\u001b[0m\u001b[0;34m.\u001b[0m\u001b[0mget_mbids\u001b[0m\u001b[0;34m(\u001b[0m\u001b[0msymbtr_name\u001b[0m\u001b[0;34m)\u001b[0m\u001b[0;34m[\u001b[0m\u001b[0;36m0\u001b[0m\u001b[0;34m]\u001b[0m\u001b[0;34m\u001b[0m\u001b[0m\n\u001b[0m\u001b[1;32m     10\u001b[0m \u001b[0;34m\u001b[0m\u001b[0m\n\u001b[1;32m     11\u001b[0m \u001b[0;31m# Extract the (meta)data from the SymbTr scores\u001b[0m\u001b[0;34m\u001b[0m\u001b[0;34m\u001b[0m\u001b[0m\n",
      "\u001b[0;31mAttributeError\u001b[0m: type object 'Work' has no attribute 'get_mbids'"
     ]
    },
    {
     "name": "stdout",
     "output_type": "stream",
     "text": [
      "> \u001b[0;32m<ipython-input-5-a97864e2a475>\u001b[0m(9)\u001b[0;36m<module>\u001b[0;34m()\u001b[0m\n",
      "\u001b[0;32m      7 \u001b[0;31m\u001b[0;31m# Note 2: very rare but there can be more that one mbid returned. We are going to use\u001b[0m\u001b[0;34m\u001b[0m\u001b[0;34m\u001b[0m\u001b[0m\n",
      "\u001b[0m\u001b[0;32m      8 \u001b[0;31m\u001b[0;31m#         the first work to get fetch the metadata\u001b[0m\u001b[0;34m\u001b[0m\u001b[0;34m\u001b[0m\u001b[0m\n",
      "\u001b[0m\u001b[0;32m----> 9 \u001b[0;31m\u001b[0mmbid\u001b[0m \u001b[0;34m=\u001b[0m \u001b[0mWork\u001b[0m\u001b[0;34m.\u001b[0m\u001b[0mget_mbids\u001b[0m\u001b[0;34m(\u001b[0m\u001b[0msymbtr_name\u001b[0m\u001b[0;34m)\u001b[0m\u001b[0;34m[\u001b[0m\u001b[0;36m0\u001b[0m\u001b[0;34m]\u001b[0m\u001b[0;34m\u001b[0m\u001b[0m\n",
      "\u001b[0m\u001b[0;32m     10 \u001b[0;31m\u001b[0;34m\u001b[0m\u001b[0m\n",
      "\u001b[0m\u001b[0;32m     11 \u001b[0;31m\u001b[0;31m# Extract the (meta)data from the SymbTr scores\u001b[0m\u001b[0;34m\u001b[0m\u001b[0;34m\u001b[0m\u001b[0m\n",
      "\u001b[0m\n",
      "ipdb> q\n"
     ]
    }
   ],
   "source": [
    "# Automatic phrase segmentation on the SymbTr-txt score using pre-trained model\n",
    "phrase_bounds = scoreAnalyzer.segment_phrase(txt_filename, symbtr_name=symbtr_name)\n",
    "\n",
    "# relevant recording or work mbid, if you want additional information from musicbrainz\n",
    "# Note 1: MBID input will make the function returns significantly slower because we\n",
    "#         have to wait a couple of seconds before each subsequent query from MusicBrainz.\n",
    "# Note 2: very rare but there can be more that one mbid returned. We are going to use \n",
    "#         the first work to get fetch the metadata\n",
    "mbid = Work.get_mbids(symbtr_name)[0]\n",
    "\n",
    "# Extract the (meta)data from the SymbTr scores\n",
    "# This includes the metadata from the score formats and MusicBrainz, extracted sections\n",
    "# rhythmic structure etc.\n",
    "score_features, validity = scoreAnalyzer.extract_data(\n",
    "    txt_filename, mu2_filename, symbtr_name=symbtr_name, mbid=mbid, \n",
    "    segment_note_bound_idx=phrase_bounds['boundary_note_idx'])\n"
   ]
  }
 ],
 "metadata": {
  "kernelspec": {
   "display_name": "Python 2",
   "language": "python",
   "name": "python2"
  },
  "language_info": {
   "codemirror_mode": {
    "name": "ipython",
    "version": 3
   },
   "file_extension": ".py",
   "mimetype": "text/x-python",
   "name": "python",
   "nbconvert_exporter": "python",
   "pygments_lexer": "ipython3",
   "version": "3.6.3"
  }
 },
 "nbformat": 4,
 "nbformat_minor": 1
}
