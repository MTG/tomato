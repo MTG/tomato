{
 "cells": [
  {
   "cell_type": "code",
   "execution_count": 1,
   "metadata": {},
   "outputs": [],
   "source": [
    "from tomato.symbolic.symbtranalyzer import SymbTrAnalyzer\n",
    "import os\n",
    "from pprint import pprint\n"
   ]
  },
  {
   "cell_type": "code",
   "execution_count": 2,
   "metadata": {},
   "outputs": [],
   "source": [
    "# symbtr name, \n",
    "# it is needed if the filename is modified from the SymbTr naming convention\n",
    "symbtr_name = 'ussak--sazsemaisi--aksaksemai----neyzen_aziz_dede'\n",
    "\n",
    "# score filepaths\n",
    "txt_filename = os.path.join(symbtr_name, symbtr_name + '.txt')\n",
    "mu2_filename = os.path.join(symbtr_name, symbtr_name + '.mu2')\n",
    "\n",
    "# instantiate analyzer object\n",
    "scoreAnalyzer = SymbTrAnalyzer(verbose=True)\n"
   ]
  },
  {
   "cell_type": "markdown",
   "metadata": {},
   "source": [
    "You can use the single line call \"analyze,\" which does all the available analysis simultaneously"
   ]
  },
  {
   "cell_type": "code",
   "execution_count": 3,
   "metadata": {},
   "outputs": [
    {
     "name": "stdout",
     "output_type": "stream",
     "text": [
      "- Automatic phrase segmentation on the SymbTr-txt file: ussak--sazsemaisi--aksaksemai----neyzen_aziz_dede/ussak--sazsemaisi--aksaksemai----neyzen_aziz_dede.txt\n",
      "  The call took 9.23 seconds to execute.\n"
     ]
    }
   ],
   "source": [
    "score_data = scoreAnalyzer.analyze(txt_filename, None, symbtr_name=symbtr_name)\n"
   ]
  },
  {
   "cell_type": "code",
   "execution_count": 4,
   "metadata": {},
   "outputs": [
    {
     "name": "stdout",
     "output_type": "stream",
     "text": [
      "{'composer': {'mbid': 'a6775723-69b6-4997-82da-bf230b1f8655',\n",
      "              'name': 'Neyzen Aziz Dede',\n",
      "              'symbtr_slug': 'neyzen_aziz_dede'},\n",
      " 'duration': {'unit': 'second', 'value': 275.821},\n",
      " 'form': {'attribute_key': 'sazsemaisi',\n",
      "          'mb_attribute': 'Sazsemaisi',\n",
      "          'source': 'http://musicbrainz.org/work/e7924b0d-c8a0-4b4a-b253-8eec898eac1e',\n",
      "          'symbtr_slug': 'sazsemaisi'},\n",
      " 'language': 'zxx',\n",
      " 'lyricist': {},\n",
      " 'makam': {'attribute_key': 'ussak',\n",
      "           'mb_attribute': 'Uşşak',\n",
      "           'source': 'http://musicbrainz.org/work/e7924b0d-c8a0-4b4a-b253-8eec898eac1e',\n",
      "           'symbtr_slug': 'ussak'},\n",
      " 'number_of_notes': 680,\n",
      " 'recordings': [{'mbid': '9a7d391f-90a6-4f2d-a0d2-5e6a5365b149',\n",
      "                 'title': 'Uşşak Saz Semaisi'},\n",
      "                {'mbid': '9b869a16-0ab0-43a2-a51e-2a03e9484e70',\n",
      "                 'title': 'Uşşak Saz Semaisi'},\n",
      "                {'mbid': '86721a3a-268f-4422-8803-73a196d2a571',\n",
      "                 'title': 'Uşşak Sazsemaisi'},\n",
      "                {'mbid': 'f970f1e0-0be9-4914-8302-709a0eac088e',\n",
      "                 'title': 'Uşşak Sazsemaisi'}],\n",
      " 'symbtr_name': 'ussak--sazsemaisi--aksaksemai----neyzen_aziz_dede',\n",
      " 'tonic': 'A4',\n",
      " 'url': 'http://musicbrainz.org/work/e7924b0d-c8a0-4b4a-b253-8eec898eac1e',\n",
      " 'usul': {'attribute_key': 'aksaksemai',\n",
      "          'mb_attribute': 'Aksaksemai',\n",
      "          'source': 'http://musicbrainz.org/work/e7924b0d-c8a0-4b4a-b253-8eec898eac1e',\n",
      "          'symbtr_slug': 'aksaksemai'},\n",
      " 'work': {'mbid': 'e7924b0d-c8a0-4b4a-b253-8eec898eac1e',\n",
      "          'symbtr_slug': '',\n",
      "          'title': 'Uşşak Saz Semaisi'}}\n"
     ]
    }
   ],
   "source": [
    "# pretty print the metadata\n",
    "pprint(score_data['metadata'])\n"
   ]
  },
  {
   "cell_type": "markdown",
   "metadata": {},
   "source": [
    "... or you can call all the methods individually\n"
   ]
  },
  {
   "cell_type": "code",
   "execution_count": 5,
   "metadata": {},
   "outputs": [
    {
     "name": "stdout",
     "output_type": "stream",
     "text": [
      "- Automatic phrase segmentation on the SymbTr-txt file: ussak--sazsemaisi--aksaksemai----neyzen_aziz_dede/ussak--sazsemaisi--aksaksemai----neyzen_aziz_dede.txt\n",
      "  The call took 8.07 seconds to execute.\n"
     ]
    }
   ],
   "source": [
    "from tomato.metadata.symbtr import SymbTr as SymbTrMetadata\n",
    "from tomato.symbolic.symbtr.reader.txt import TxtReader\n",
    "from tomato.symbolic.symbtr.reader.mu2 import Mu2Reader\n",
    "from tomato.symbolic.symbtr.dataextractor import DataExtractor\n",
    "from tomato.symbolic.symbtr.section import SectionExtractor\n",
    "from tomato.symbolic.symbtr.segment import SegmentExtractor\n",
    "from tomato.symbolic.symbtr.rhythmicfeature import RhythmicFeatureExtractor\n",
    "\n",
    "# relevant recording or work mbid, if you want additional information from musicbrainz\n",
    "# Note 1: MBID input will make the function returns significantly slower because we\n",
    "#         have to wait a couple of seconds before each subsequent query from MusicBrainz.\n",
    "# Note 2: very rare but there can be more that one mbid returned. We are going to use \n",
    "#         the first work to get fetch the metadata\n",
    "mbid = SymbTrMetadata.get_mbids_from_symbtr_name(symbtr_name)[0]\n",
    "\n",
    "# read the txt score\n",
    "txt_score, is_score_content_valid = TxtReader.read(\n",
    "    txt_filename, symbtr_name=symbtr_name)\n",
    "\n",
    "# read metadata from musicbrainz\n",
    "mb_metadata, is_mb_metadata_valid = SymbTrMetadata.from_musicbrainz(\n",
    "    symbtr_name, mbid=score_data['mbid'])\n",
    "\n",
    "# add duration & number of notes\n",
    "mb_metadata['duration'] = {\n",
    "    'value': sum(score_data['score']['duration']) * 0.001, 'unit': 'second'}\n",
    "mb_metadata['number_of_notes'] = len(txt_score['duration'])\n",
    "\n",
    "# read metadata from the mu2 header\n",
    "mu2_header, header_row, is_mu2_header_valid = Mu2Reader.read_header(\n",
    "    mu2_filename, symbtr_name=symbtr_name)\n",
    "\n",
    "# merge metadata\n",
    "score_metadata = DataExtractor.merge(mb_metadata, mu2_header)\n",
    "\n",
    "# sections\n",
    "section_extractor = SectionExtractor()\n",
    "sections, is_section_data_valid = section_extractor.from_txt_score(\n",
    "    txt_score, symbtr_name)\n",
    "\n",
    "# annotated phrases\n",
    "segment_extractor = SegmentExtractor()\n",
    "phrase_annotations = segment_extractor.extract_phrases(\n",
    "    txt_score, sections=sections)\n",
    "\n",
    "# Automatic phrase segmentation on the SymbTr-txt score using pre-trained model\n",
    "segment_bounds = scoreAnalyzer.segment_phrase(txt_filename, symbtr_name=symbtr_name)\n",
    "segments = segment_extractor.extract_segments(\n",
    "    txt_score,\n",
    "    segment_bounds['boundary_note_idx'],\n",
    "    sections=sections)\n",
    "\n",
    "# rhythmic structure\n",
    "rhythmic_structure = RhythmicFeatureExtractor.extract_rhythmic_structure(\n",
    "    txt_score)"
   ]
  }
 ],
 "metadata": {
  "kernelspec": {
   "display_name": "Python 3",
   "language": "python",
   "name": "python3"
  },
  "language_info": {
   "codemirror_mode": {
    "name": "ipython",
    "version": 3
   },
   "file_extension": ".py",
   "mimetype": "text/x-python",
   "name": "python",
   "nbconvert_exporter": "python",
   "pygments_lexer": "ipython3",
   "version": "3.5.2"
  }
 },
 "nbformat": 4,
 "nbformat_minor": 1
}
