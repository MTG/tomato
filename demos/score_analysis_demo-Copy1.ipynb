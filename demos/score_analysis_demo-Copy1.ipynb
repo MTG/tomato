{
 "cells": [
  {
   "cell_type": "code",
   "execution_count": 1,
   "metadata": {
    "collapsed": false
   },
   "outputs": [],
   "source": [
    "from tomato.symbolic.symbtranalyzer import SymbTrAnalyzer\n",
    "from symbtrextras.scoreextras import ScoreExtras\n",
    "import os\n",
    "from pprint import pprint\n"
   ]
  },
  {
   "cell_type": "code",
   "execution_count": 2,
   "metadata": {
    "collapsed": false
   },
   "outputs": [],
   "source": [
    "# symbtr name, \n",
    "# it is needed if the filename is modified from the SymbTr naming convention\n",
    "symbtr_name = 'suzinak_zirgule--kupe--devrirevanihindi--perdebazim--ahmet_avni_konuk'\n",
    "\n",
    "# score filepaths\n",
    "txt_filename = os.path.join(symbtr_name, symbtr_name + '.txt')\n",
    "mu2_filename = os.path.join(symbtr_name, symbtr_name + '.mu2')\n",
    "\n",
    "# instantiate analyzer object\n",
    "scoreAnalyzer = SymbTrAnalyzer(verbose=True)\n"
   ]
  },
  {
   "cell_type": "markdown",
   "metadata": {},
   "source": [
    "You can use the single line call \"analyze,\" which does all the available analysis simultaneously"
   ]
  },
  {
   "cell_type": "code",
   "execution_count": 3,
   "metadata": {
    "collapsed": false
   },
   "outputs": [
    {
     "name": "stdout",
     "output_type": "stream",
     "text": [
      "- Automatic phrase segmentation on the SymbTr-txt file: suzinak_zirgule--kupe--devrirevanihindi--perdebazim--ahmet_avni_konuk/suzinak_zirgule--kupe--devrirevanihindi--perdebazim--ahmet_avni_konuk.txt\n",
      "- Extracting (meta)data from the SymbTr-txt file: suzinak_zirgule--kupe--devrirevanihindi--perdebazim--ahmet_avni_konuk/suzinak_zirgule--kupe--devrirevanihindi--perdebazim--ahmet_avni_konuk.txt\n",
      "  The call took 0.02 seconds to execute.\n",
      "- Extracting metadata from the SymbTr-mu2 file: suzinak_zirgule--kupe--devrirevanihindi--perdebazim--ahmet_avni_konuk/suzinak_zirgule--kupe--devrirevanihindi--perdebazim--ahmet_avni_konuk.mu2\n",
      "  The call took 0.01 seconds to execute.\n"
     ]
    },
    {
     "name": "stderr",
     "output_type": "stream",
     "text": [
      "/home/sertansenturk/Documents/notaIcra/code/tomato/tomato/analyzer.py:60: RuntimeWarning: No MBID returned for suzinak_zirgule--kupe--devrirevanihindi--perdebazim--ahmet_avni_konuk\n",
      "  return func(*input_args, **input_kwargs)\n",
      "/home/sertansenturk/Documents/notaIcra/code/tomato/tomato/symbolic/symbtranalyzer.py:167: UserWarning: There is no information about whether the score is related to a composition or a performance. The title key is skipped.\n",
      "  score_features = DataExtractor.merge(txt_data, mu2_header)\n"
     ]
    }
   ],
   "source": [
    "score_data = scoreAnalyzer.analyze(txt_filename, mu2_filename, symbtr_name=symbtr_name)\n"
   ]
  },
  {
   "cell_type": "code",
   "execution_count": 4,
   "metadata": {
    "collapsed": false
   },
   "outputs": [
    {
     "name": "stdout",
     "output_type": "stream",
     "text": [
      "{'composer': {'mu2_name': u'Ahmet Avni Konuk',\n",
      "              'symbtr_slug': 'ahmet_avni_konuk'},\n",
      " 'duration': {'unit': 'second', 'value': 65.859},\n",
      " 'form': {'attribute_key': u'kupe',\n",
      "          'mu2_name': u'K\\xfcpe',\n",
      "          'symbtr_slug': 'kupe'},\n",
      " 'genre': 'classical',\n",
      " 'key_signature': [u'B4b1', u'E5b4', u'A4b4', u'F5#4'],\n",
      " 'lyricist': {'mu2_name': u'Ahmet Avni Konuk'},\n",
      " 'makam': {'attribute_key': u'suzinak_zirgule',\n",
      "           'mu2_name': u'S\\xfbzin\\xe2k-Zirg\\xfcle',\n",
      "           'symbtr_slug': 'suzinak_zirgule'},\n",
      " 'name': {},\n",
      " 'notation': u'TSM',\n",
      " 'number_of_notes': 140,\n",
      " 'phrase_annotations': [],\n",
      " 'rhythmic_structure': [{'endNote': 140,\n",
      "                         'startNote': 1,\n",
      "                         'tempo': {'unit': 'bpm', 'value': 26},\n",
      "                         'usul': {'attribute_key': u'devrirevanihindi',\n",
      "                                  'mertebe': 8,\n",
      "                                  'mu2_name': u'Devr-i Rev\\xe2n-\\u0131 Hind\\xee',\n",
      "                                  'number_of_pulses': 14,\n",
      "                                  'symbtr_internal_id': 129}}],\n",
      " 'sections': [{'end_note': 71,\n",
      "               'lyrics': u'Perdeb\\xe2z\\u0131m ger\\xe7i oldun t\\xfcrl\\xfc t\\xfcrl\\xfc na\\u011fmes\\xe2z  ',\n",
      "               'lyrics_similarities': [1.0, 0.21052631578947367],\n",
      "               'lyrics_structure': u'A1',\n",
      "               'melodic_similarities': [1.0, 0.0982142857142857],\n",
      "               'melodic_structure': u'A1',\n",
      "               'name': u'VOCAL_SECTION',\n",
      "               'slug': u'VOCAL_SECTION',\n",
      "               'start_note': 2},\n",
      "              {'end_note': 140,\n",
      "               'lyrics': u'S\\xfbzin\\xe2k\\u0131m perde i Zirg\\xfcleyi g\\xf6ster biraz  ',\n",
      "               'lyrics_similarities': [0.21052631578947367, 1.0],\n",
      "               'lyrics_structure': u'B1',\n",
      "               'melodic_similarities': [0.0982142857142857, 1.0],\n",
      "               'melodic_structure': u'B1',\n",
      "               'name': u'VOCAL_SECTION',\n",
      "               'slug': u'VOCAL_SECTION',\n",
      "               'start_note': 72}],\n",
      " 'segments': [],\n",
      " 'symbtr': 'suzinak_zirgule--kupe--devrirevanihindi--perdebazim--ahmet_avni_konuk',\n",
      " 'tempo': {'unit': 'bpm', 'value': 102},\n",
      " 'tonic': u'G4',\n",
      " 'usul': {'attribute_key': u'devrirevanihindi',\n",
      "          'mertebe': 8,\n",
      "          'mu2_name': u'Devr-i Rev\\xe2n-\\u0131 Hind\\xee',\n",
      "          'number_of_pulses': 14,\n",
      "          'symbtr_slug': 'devrirevanihindi'}}\n"
     ]
    }
   ],
   "source": [
    "# pretty print the data. \n",
    "# NOTE: The output tuple will have (score_features, boundaries, mbid) \n",
    "# in order. score_features is a summary of all the analysis and \n",
    "# encompasses the other two outputs\n",
    "pprint(score_data[0])\n"
   ]
  },
  {
   "cell_type": "markdown",
   "metadata": {},
   "source": [
    "... or you can call all the methods individually\n",
    "\n",
    "**Note:** If you want to call the extractors for each score format individualy, please use the **symbtrdataextractor** package. You can refer to the [extractsymbtrdata.ipynb](https://github.com/sertansenturk/symbtrdataextractor/blob/master/extractsymbtrdata.ipynb) for an interactive demo"
   ]
  },
  {
   "cell_type": "code",
   "execution_count": 5,
   "metadata": {
    "collapsed": false
   },
   "outputs": [
    {
     "name": "stdout",
     "output_type": "stream",
     "text": [
      "- Automatic phrase segmentation on the SymbTr-txt file: suzinak_zirgule--kupe--devrirevanihindi--perdebazim--ahmet_avni_konuk/suzinak_zirgule--kupe--devrirevanihindi--perdebazim--ahmet_avni_konuk.txt\n"
     ]
    },
    {
     "ename": "RuntimeError",
     "evalue": "Phrase segmentation is not successful. Please check the error in the terminal.",
     "output_type": "error",
     "traceback": [
      "\u001b[1;31m---------------------------------------------------------------------------\u001b[0m",
      "\u001b[1;31mRuntimeError\u001b[0m                              Traceback (most recent call last)",
      "\u001b[1;32m<ipython-input-5-b2090a6be1fc>\u001b[0m in \u001b[0;36m<module>\u001b[1;34m()\u001b[0m\n\u001b[0;32m      1\u001b[0m \u001b[1;31m# Automatic phrase segmentation on the SymbTr-txt score using pre-trained model\u001b[0m\u001b[1;33m\u001b[0m\u001b[1;33m\u001b[0m\u001b[0m\n\u001b[1;32m----> 2\u001b[1;33m \u001b[0mphrase_bounds\u001b[0m \u001b[1;33m=\u001b[0m \u001b[0mscoreAnalyzer\u001b[0m\u001b[1;33m.\u001b[0m\u001b[0msegment_phrase\u001b[0m\u001b[1;33m(\u001b[0m\u001b[0mtxt_filename\u001b[0m\u001b[1;33m,\u001b[0m \u001b[0msymbtr_name\u001b[0m\u001b[1;33m=\u001b[0m\u001b[0msymbtr_name\u001b[0m\u001b[1;33m)\u001b[0m\u001b[1;33m\u001b[0m\u001b[0m\n\u001b[0m\u001b[0;32m      3\u001b[0m \u001b[1;33m\u001b[0m\u001b[0m\n\u001b[0;32m      4\u001b[0m \u001b[1;31m# relevant recording or work mbid, if you want additional information from musicbrainz\u001b[0m\u001b[1;33m\u001b[0m\u001b[1;33m\u001b[0m\u001b[0m\n\u001b[0;32m      5\u001b[0m \u001b[1;31m# Note 1: MBID input will make the function returns significantly slower because we\u001b[0m\u001b[1;33m\u001b[0m\u001b[1;33m\u001b[0m\u001b[0m\n",
      "\u001b[1;32m/home/sertansenturk/Documents/notaIcra/code/tomato/tomato/symbolic/symbtranalyzer.pyc\u001b[0m in \u001b[0;36msegment_phrase\u001b[1;34m(self, txt_filename, symbtr_name)\u001b[0m\n\u001b[0;32m    116\u001b[0m         \u001b[1;32mif\u001b[0m \u001b[1;34m\"segmentation complete!\"\u001b[0m \u001b[1;32mnot\u001b[0m \u001b[1;32min\u001b[0m \u001b[0mout\u001b[0m\u001b[1;33m:\u001b[0m\u001b[1;33m\u001b[0m\u001b[0m\n\u001b[0;32m    117\u001b[0m             \u001b[0mIO\u001b[0m\u001b[1;33m.\u001b[0m\u001b[0mremove_temp_files\u001b[0m\u001b[1;33m(\u001b[0m\u001b[0mtemp_in_file\u001b[0m\u001b[1;33m,\u001b[0m \u001b[0mtemp_out_file\u001b[0m\u001b[1;33m)\u001b[0m\u001b[1;33m\u001b[0m\u001b[0m\n\u001b[1;32m--> 118\u001b[1;33m             raise RuntimeError(\"Phrase segmentation is not successful. Please \"\n\u001b[0m\u001b[0;32m    119\u001b[0m                                \"check the error in the terminal.\")\n\u001b[0;32m    120\u001b[0m \u001b[1;33m\u001b[0m\u001b[0m\n",
      "\u001b[1;31mRuntimeError\u001b[0m: Phrase segmentation is not successful. Please check the error in the terminal."
     ]
    }
   ],
   "source": [
    "# Automatic phrase segmentation on the SymbTr-txt score using pre-trained model\n",
    "phrase_bounds = scoreAnalyzer.segment_phrase(txt_filename, symbtr_name=symbtr_name)\n",
    "\n",
    "# relevant recording or work mbid, if you want additional information from musicbrainz\n",
    "# Note 1: MBID input will make the function returns significantly slower because we\n",
    "#         have to wait a couple of seconds before each subsequent query from MusicBrainz.\n",
    "# Note 2: very rare but there can be more that one mbid returned. We are going to use \n",
    "#         the first work to get fetch the metadata\n",
    "mbid = ScoreExtras.get_mbids(symbtr_name)[0]\n",
    "\n",
    "# Extract the (meta)data from the SymbTr scores\n",
    "# This includes the metadata from the score formats and MusicBrainz, extracted sections\n",
    "# rhythmic structure etc.\n",
    "score_features = scoreAnalyzer.extract_data(\n",
    "    txt_filename, mu2_filename, symbtr_name=symbtr_name, mbid=mbid, \n",
    "    segment_note_bound_idx=phrase_bounds['boundary_note_idx'])\n"
   ]
  }
 ],
 "metadata": {
  "kernelspec": {
   "display_name": "Python 2",
   "language": "python",
   "name": "python2"
  },
  "language_info": {
   "codemirror_mode": {
    "name": "ipython",
    "version": 2
   },
   "file_extension": ".py",
   "mimetype": "text/x-python",
   "name": "python",
   "nbconvert_exporter": "python",
   "pygments_lexer": "ipython2",
   "version": "2.7.11+"
  }
 },
 "nbformat": 4,
 "nbformat_minor": 0
}
