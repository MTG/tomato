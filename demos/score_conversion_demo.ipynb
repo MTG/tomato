{
 "cells": [
  {
   "cell_type": "code",
   "execution_count": 1,
   "metadata": {
    "collapsed": false
   },
   "outputs": [],
   "source": [
    "from tomato.symbolic.scoreconverter import ScoreConverter\n",
    "import pprint \n",
    "import os\n"
   ]
  },
  {
   "cell_type": "code",
   "execution_count": 2,
   "metadata": {
    "collapsed": false
   },
   "outputs": [],
   "source": [
    "# score filepaths\n",
    "score_folder = 'ussak--sazsemaisi--aksaksemai----neyzen_aziz_dede'\n",
    "symbtr_name = 'ussak--sazsemaisi--aksaksemai----neyzen_aziz_dede'\n",
    "work_mbid = 'e7924b0d-c8a0-4b4a-b253-8eec898eac1e'\n",
    "\n",
    "# input files\n",
    "txt_filename = os.path.join(score_folder, symbtr_name + '.txt')\n",
    "mu2_filename = os.path.join(score_folder, symbtr_name + '.mu2')\n",
    "\n",
    "# outputs \n",
    "xml_filename = os.path.join(score_folder, symbtr_name + '.xml')\n",
    "ly_filename = os.path.join(score_folder, symbtr_name + '.ly')\n",
    "svg_filename_template = os.path.join(score_folder, symbtr_name)\n",
    "\n",
    "# parameters\n",
    "render_metadata = True  # Add the metadata stored in MusicXML to Lilypond\n",
    "svg_paper_size = 'junior-legal'  # The paper size of the svg output pages\n",
    "\n",
    "# instantiate analyzer object\n",
    "scoreConverter = ScoreConverter()\n"
   ]
  },
  {
   "cell_type": "markdown",
   "metadata": {},
   "source": [
    "You can use the single line call \"convert,\" which does all the available conversions,\n",
    "*[txt + mu2] => MusicXML => LilyPond => svg*, simultaneously"
   ]
  },
  {
   "cell_type": "code",
   "execution_count": 3,
   "metadata": {
    "collapsed": false
   },
   "outputs": [],
   "source": [
    "xml_output, ly_output, svg_output, txt_ly_mapping = scoreConverter.convert(\n",
    "    txt_filename, mu2_filename, symbtr_name=symbtr_name, mbid=work_mbid, \n",
    "    render_metadata=render_metadata, xml_out=xml_filename, ly_out=ly_filename, \n",
    "    svg_out=svg_filename_template, svg_paper_size=svg_paper_size)\n"
   ]
  },
  {
   "cell_type": "markdown",
   "metadata": {},
   "source": [
    "... or you can call all the methods individually."
   ]
  },
  {
   "cell_type": "code",
   "execution_count": 4,
   "metadata": {
    "collapsed": false
   },
   "outputs": [],
   "source": [
    "# convert symbtr-txt file to MusicXML format. Use the metadata in the mu2 header as\n",
    "# complementary information\n",
    "xml_file = scoreConverter.txt_mu2_to_musicxml(\n",
    "    txt_filename, mu2_filename, xml_out=xml_filename, symbtr_name=symbtr_name,\n",
    "    mbid=work_mbid)\n",
    "\n",
    "# convert the MusicXML to LilyPond\n",
    "ly_file, ly_txt_mapping = scoreConverter.musicxml_to_lilypond(\n",
    "    xml_file, ly_out=ly_filename, render_metadata=render_metadata)\n",
    "\n",
    "# convert the LilyPond to svg\n",
    "svg_files = scoreConverter.lilypond_to_svg(\n",
    "    ly_file, svg_out=svg_filename_template, \n",
    "    paper_size=svg_paper_size, ly_txt_mapping=ly_txt_mapping)\n"
   ]
  }
 ],
 "metadata": {
  "kernelspec": {
   "display_name": "Python 2",
   "language": "python",
   "name": "python2"
  },
  "language_info": {
   "codemirror_mode": {
    "name": "ipython",
    "version": 2
   },
   "file_extension": ".py",
   "mimetype": "text/x-python",
   "name": "python",
   "nbconvert_exporter": "python",
   "pygments_lexer": "ipython2",
   "version": "2.7.11+"
  }
 },
 "nbformat": 4,
 "nbformat_minor": 0
}
