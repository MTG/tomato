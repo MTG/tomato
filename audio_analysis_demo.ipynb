{
 "cells": [
  {
   "cell_type": "code",
   "execution_count": 1,
   "metadata": {
    "collapsed": false
   },
   "outputs": [],
   "source": [
    "%matplotlib inline\n",
    "import os\n",
    "from tomato.audio.AudioAnalyzer import AudioAnalyzer"
   ]
  },
  {
   "cell_type": "code",
   "execution_count": 2,
   "metadata": {
    "collapsed": false
   },
   "outputs": [],
   "source": [
    "# insantiate\n",
    "audio_filepath = os.path.join('huzzam--sazsemaisi--aksaksemai----udi_nevres_bey',\n",
    "                              'd2731692-626d-4a6d-9b67-a70c9e7b9745',\n",
    "                              'd2731692-626d-4a6d-9b67-a70c9e7b9745.mp3')\n",
    "\n",
    "audioAnalyzer = AudioAnalyzer()"
   ]
  },
  {
   "cell_type": "code",
   "execution_count": 3,
   "metadata": {
    "collapsed": false
   },
   "outputs": [],
   "source": [
    "# Pitch extraction\n",
    "# There is no need to run pitch filter as it is run in extract_pitch by default\n",
    "# NOTE: This will take saveral minutes depending on the machine you run this algorithm on\n",
    "pitch = audioAnalyzer.extract_pitch(audio_filepath)\n"
   ]
  },
  {
   "cell_type": "code",
   "execution_count": null,
   "metadata": {
    "collapsed": false
   },
   "outputs": [],
   "source": []
  }
 ],
 "metadata": {
  "kernelspec": {
   "display_name": "Python 2",
   "language": "python",
   "name": "python2"
  },
  "language_info": {
   "codemirror_mode": {
    "name": "ipython",
    "version": 2
   },
   "file_extension": ".py",
   "mimetype": "text/x-python",
   "name": "python",
   "nbconvert_exporter": "python",
   "pygments_lexer": "ipython2",
   "version": "2.7.11"
  }
 },
 "nbformat": 4,
 "nbformat_minor": 0
}
