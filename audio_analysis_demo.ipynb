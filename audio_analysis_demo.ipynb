{
 "cells": [
  {
   "cell_type": "code",
   "execution_count": null,
   "metadata": {
    "collapsed": false
   },
   "outputs": [],
   "source": [
    "%matplotlib inline\n",
    "import os\n",
    "from tomato.audio.AudioAnalyzer import AudioAnalyzer"
   ]
  },
  {
   "cell_type": "code",
   "execution_count": null,
   "metadata": {
    "collapsed": false
   },
   "outputs": [],
   "source": [
    "# instantiate\n",
    "audio_filepath = os.path.join('huzzam--sazsemaisi--aksaksemai----udi_nevres_bey',\n",
    "                              'd2731692-626d-4a6d-9b67-a70c9e7b9745',\n",
    "                              'd2731692-626d-4a6d-9b67-a70c9e7b9745.mp3')\n",
    "makam = 'huzzam'\n",
    "audioAnalyzer = AudioAnalyzer()"
   ]
  },
  {
   "cell_type": "markdown",
   "metadata": {},
   "source": [
    "You can use the single line call \"analyze,\" which does all the available analysis simultaneously"
   ]
  },
  {
   "cell_type": "code",
   "execution_count": null,
   "metadata": {
    "collapsed": true
   },
   "outputs": [],
   "source": [
    "# NOTE: This will take saveral minutes depending on the performance of your machine\n",
    "features = audioAnalyzer.analyze(audio_filepath, makam=makam)"
   ]
  },
  {
   "cell_type": "markdown",
   "metadata": {},
   "source": [
    "... or you can call all the methods individually"
   ]
  },
  {
   "cell_type": "code",
   "execution_count": null,
   "metadata": {
    "collapsed": false
   },
   "outputs": [],
   "source": [
    "# predominant melody extraction\n",
    "pitch = audioAnalyzer.extract_pitch(audio_filepath)\n",
    "# There is no need to run pitch filter, as it is run in extract_pitch \n",
    "# by default\n",
    "\n",
    "# tonic identification\n",
    "tonic = audioAnalyzer.identify_tonic(pitch)\n",
    "\n",
    "# histogram computation\n",
    "pitch_distribution = audioAnalyzer.compute_pitch_distribution(pitch, tonic)\n",
    "pitch_class_distribution = pitch_distribution.to_pcd()\n",
    "\n",
    "# transposition (ahenk) identification\n",
    "ahenk = audioAnalyzer.identify_ahenk(tonic, makam)\n",
    "\n",
    "# stable note extraction (tuning analysis)\n",
    "stable_notes = audioAnalyzer.get_stable_notes(pitch_distribution, tonic, makam)\n"
   ]
  }
 ],
 "metadata": {
  "kernelspec": {
   "display_name": "Python 2",
   "language": "python",
   "name": "python2"
  },
  "language_info": {
   "codemirror_mode": {
    "name": "ipython",
    "version": 2
   },
   "file_extension": ".py",
   "mimetype": "text/x-python",
   "name": "python",
   "nbconvert_exporter": "python",
   "pygments_lexer": "ipython2",
   "version": "2.7.11"
  }
 },
 "nbformat": 4,
 "nbformat_minor": 0
}
