{
 "cells": [
  {
   "cell_type": "code",
   "execution_count": 1,
   "metadata": {
    "collapsed": false
   },
   "outputs": [],
   "source": [
    "%matplotlib inline\n",
    "import os\n",
    "from tomato.audio.AudioAnalyzer import AudioAnalyzer\n",
    "import pylab\n",
    "pylab.rcParams['figure.figsize'] = (20, 8)"
   ]
  },
  {
   "cell_type": "code",
   "execution_count": null,
   "metadata": {
    "collapsed": false
   },
   "outputs": [],
   "source": [
    "# instantiate\n",
    "audio_filepath = os.path.join('ussak--sazsemaisi--aksaksemai----neyzen_aziz_dede',\n",
    "                              'f970f1e0-0be9-4914-8302-709a0eac088e',\n",
    "                              'f970f1e0-0be9-4914-8302-709a0eac088e.mp3')\n",
    "makam = 'ussak'\n",
    "audioAnalyzer = AudioAnalyzer()"
   ]
  },
  {
   "cell_type": "markdown",
   "metadata": {},
   "source": [
    "You can use the single line call \"analyze,\" which does all the available analysis simultaneously"
   ]
  },
  {
   "cell_type": "code",
   "execution_count": null,
   "metadata": {
    "collapsed": false
   },
   "outputs": [],
   "source": [
    "# NOTE: This will take several minutes depending on the performance of your machine\n",
    "features = audioAnalyzer.analyze(audio_filepath, makam=makam)\n",
    "\n",
    "# plot the features\n",
    "audioAnalyzer.plot(features)\n",
    "pylab.show()"
   ]
  },
  {
   "cell_type": "markdown",
   "metadata": {},
   "source": [
    "... or you can call all the methods individually"
   ]
  },
  {
   "cell_type": "code",
   "execution_count": null,
   "metadata": {
    "collapsed": false
   },
   "outputs": [],
   "source": [
    "# predominant melody extraction\n",
    "pitch = audioAnalyzer.extract_pitch(audio_filepath)\n",
    "\n",
    "# even though predominant melody calls pitch filter in Essentia,\n",
    "# it is not as goot as Sercan Atli's implementation in Python.\n",
    "pitch = audioAnalyzer.filter_pitch(pitch)\n",
    "\n",
    "# tonic identification\n",
    "tonic = audioAnalyzer.identify_tonic(pitch)\n",
    "\n",
    "# histogram computation\n",
    "pitch_distribution = audioAnalyzer.compute_pitch_distribution(pitch, tonic)\n",
    "pitch_class_distribution = pitch_distribution.to_pcd()\n",
    "\n",
    "# transposition (ahenk) identification\n",
    "ahenk = audioAnalyzer.identify_ahenk(tonic, makam)\n",
    "\n",
    "# stable note extraction (tuning analysis)\n",
    "stable_notes = audioAnalyzer.get_stable_notes(pitch_distribution, tonic, makam)\n"
   ]
  }
 ],
 "metadata": {
  "kernelspec": {
   "display_name": "Python 2",
   "language": "python",
   "name": "python2"
  },
  "language_info": {
   "codemirror_mode": {
    "name": "ipython",
    "version": 2
   },
   "file_extension": ".py",
   "mimetype": "text/x-python",
   "name": "python",
   "nbconvert_exporter": "python",
   "pygments_lexer": "ipython2",
   "version": "2.7.11"
  }
 },
 "nbformat": 4,
 "nbformat_minor": 0
}
