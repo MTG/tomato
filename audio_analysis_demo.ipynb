{
 "cells": [
  {
   "cell_type": "code",
   "execution_count": 1,
   "metadata": {
    "collapsed": false
   },
   "outputs": [],
   "source": [
    "%matplotlib inline\n",
    "import os\n",
    "from tomato.audio.AudioAnalyzer import AudioAnalyzer"
   ]
  },
  {
   "cell_type": "code",
   "execution_count": 2,
   "metadata": {
    "collapsed": false
   },
   "outputs": [],
   "source": [
    "# insantiate\n",
    "audio_filepath = os.path.join('huzzam--sazsemaisi--aksaksemai----udi_nevres_bey',\n",
    "                              'd2731692-626d-4a6d-9b67-a70c9e7b9745',\n",
    "                              'd2731692-626d-4a6d-9b67-a70c9e7b9745.mp3')\n",
    "makam = 'huzzam'\n",
    "audioAnalyzer = AudioAnalyzer()"
   ]
  },
  {
   "cell_type": "code",
   "execution_count": 3,
   "metadata": {
    "collapsed": false
   },
   "outputs": [],
   "source": [
    "# Pitch extraction\n",
    "# NOTE: This will take saveral minutes depending on the machine you \n",
    "# run this algorithm on\n",
    "pitch = audioAnalyzer.extract_pitch(audio_filepath)\n",
    "# There is no need to run pitch filter, as it is run in extract_pitch \n",
    "# by default"
   ]
  },
  {
   "cell_type": "code",
   "execution_count": 4,
   "metadata": {
    "collapsed": false
   },
   "outputs": [],
   "source": [
    "# Tonic and transposition (ahenk) identification\n",
    "tonic = audioAnalyzer.identify_tonic(pitch)\n",
    "ahenk = audioAnalyzer.identify_ahenk(tonic, makam)"
   ]
  },
  {
   "cell_type": "code",
   "execution_count": 5,
   "metadata": {
    "collapsed": false
   },
   "outputs": [],
   "source": [
    "# histogram computation\n",
    "pitch_distribution = audioAnalyzer.compute_pitch_distribution(pitch, tonic)\n",
    "pitch_class_distribution = pitch_distribution.to_pcd()\n"
   ]
  },
  {
   "cell_type": "code",
   "execution_count": 6,
   "metadata": {
    "collapsed": false
   },
   "outputs": [],
   "source": [
    "# tuning analysis and stable pitch extraction\n",
    "stable_notes = audioAnalyzer.get_stable_notes(pitch_distribution, tonic, makam)"
   ]
  }
 ],
 "metadata": {
  "kernelspec": {
   "display_name": "Python 2",
   "language": "python",
   "name": "python2"
  },
  "language_info": {
   "codemirror_mode": {
    "name": "ipython",
    "version": 2
   },
   "file_extension": ".py",
   "mimetype": "text/x-python",
   "name": "python",
   "nbconvert_exporter": "python",
   "pygments_lexer": "ipython2",
   "version": "2.7.11"
  }
 },
 "nbformat": 4,
 "nbformat_minor": 0
}
