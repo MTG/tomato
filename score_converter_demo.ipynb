{
 "cells": [
  {
   "cell_type": "code",
   "execution_count": 1,
   "metadata": {
    "collapsed": false
   },
   "outputs": [],
   "source": [
    "from tomato.symbolic.ScoreConverter import ScoreConverter\n",
    "import pprint \n",
    "import os"
   ]
  },
  {
   "cell_type": "code",
   "execution_count": null,
   "metadata": {
    "collapsed": false
   },
   "outputs": [],
   "source": [
    "# score filepaths\n",
    "txt_filename = os.path.join('ussak--sazsemaisi--aksaksemai----neyzen_aziz_dede',\n",
    "                            'ussak--sazsemaisi--aksaksemai----neyzen_aziz_dede.txt')\n",
    "mu2_filename = os.path.join('ussak--sazsemaisi--aksaksemai----neyzen_aziz_dede',\n",
    "                            'ussak--sazsemaisi--aksaksemai----neyzen_aziz_dede.mu2')\n",
    "\n",
    "# only needed if the filename is modified from the SymbTr naming convention\n",
    "symbtr_name = 'ussak--sazsemaisi--aksaksemai----neyzen_aziz_dede'\n",
    "mbid = 'e7924b0d-c8a0-4b4a-b253-8eec898eac1e'\n",
    "\n",
    "# instantiate analyzer object\n",
    "scoreConverter = ScoreConverter()\n"
   ]
  },
  {
   "cell_type": "markdown",
   "metadata": {},
   "source": [
    "You can use the single line call \"convert,\" which does all the available conversions,\n",
    "*[txt + mu2] => MusicXML => LilyPond => svg*, simultaneously"
   ]
  },
  {
   "cell_type": "code",
   "execution_count": null,
   "metadata": {
    "collapsed": true
   },
   "outputs": [],
   "source": []
  },
  {
   "cell_type": "markdown",
   "metadata": {},
   "source": [
    "... or you can call all the methods individually."
   ]
  },
  {
   "cell_type": "code",
   "execution_count": null,
   "metadata": {
    "collapsed": false
   },
   "outputs": [
    {
     "name": "stdout",
     "output_type": "stream",
     "text": [
      "> /Users/sertansenturk_mtg/Documents/notaIcra/code/tomato/tomato/symbolic/ScoreConverter.py(64)lilypond_to_svg()\n",
      "-> subprocess.call(callstr)\n",
      "(Pdb) callstr\n",
      "u'/Applications/LilyPond.app/Contents/Resources/bin/lilypond -dpaper-size=\\\\\"junior-legal\\\\\" -dbackend=svg \"-o /var/folders/41/9l6z7g550ss_0rhwlr1x6cph0000gn/T/tmp5SPjtK\" \"/var/folders/41/9l6z7g550ss_0rhwlr1x6cph0000gn/T/tmpISOFV2.ly\"'\n"
     ]
    }
   ],
   "source": [
    "# convert symbtr-txt file to MusicXML format. Use the metadata in the mu2 header as\n",
    "# complementary information\n",
    "xml_str = scoreConverter.txt_mu2_to_musicxml(txt_filename, mu2_filename, out=None,\n",
    "                                             symbtr_name=symbtr_name, mbid=mbid)\n",
    "\n",
    "# convert the MusicXML to LilyPond\n",
    "ly_str, xml2ly_mapping = scoreConverter.musicxml_to_lilypond(\n",
    "    xml_str, lilypond_out=None, render_metadata=True)\n",
    "\n",
    "# convert the LilyPond to svg\n",
    "svg = scoreConverter.lilypond_to_svg(ly_str, svg_out='tmp.svg')\n"
   ]
  }
 ],
 "metadata": {
  "kernelspec": {
   "display_name": "Python 2",
   "language": "python",
   "name": "python2"
  },
  "language_info": {
   "codemirror_mode": {
    "name": "ipython",
    "version": 2
   },
   "file_extension": ".py",
   "mimetype": "text/x-python",
   "name": "python",
   "nbconvert_exporter": "python",
   "pygments_lexer": "ipython2",
   "version": "2.7.11"
  }
 },
 "nbformat": 4,
 "nbformat_minor": 0
}
