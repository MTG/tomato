{
 "cells": [
  {
   "cell_type": "code",
   "execution_count": 1,
   "metadata": {
    "collapsed": true
   },
   "outputs": [],
   "source": [
    "from tomato.symbolic.ScoreConverter import ScoreConverter\n",
    "import pprint \n",
    "import os"
   ]
  },
  {
   "cell_type": "code",
   "execution_count": 2,
   "metadata": {
    "collapsed": false
   },
   "outputs": [],
   "source": [
    "# score filepaths\n",
    "txt_filename = os.path.join('ussak--sazsemaisi--aksaksemai----neyzen_aziz_dede',\n",
    "                            'ussak--sazsemaisi--aksaksemai----neyzen_aziz_dede.txt')\n",
    "mu2_filename = os.path.join('ussak--sazsemaisi--aksaksemai----neyzen_aziz_dede',\n",
    "                            'ussak--sazsemaisi--aksaksemai----neyzen_aziz_dede.mu2')\n",
    "\n",
    "# only needed if the filename is modified from the SymbTr naming convention\n",
    "symbtr_name = 'ussak--sazsemaisi--aksaksemai----neyzen_aziz_dede'\n",
    "mbid = 'e7924b0d-c8a0-4b4a-b253-8eec898eac1e'\n",
    "\n",
    "# instantiate analyzer object\n",
    "scoreConverter = ScoreConverter()"
   ]
  },
  {
   "cell_type": "code",
   "execution_count": 6,
   "metadata": {
    "collapsed": false
   },
   "outputs": [],
   "source": [
    "# convert symbtr-txt file to MusicXML format. Use the metadata in the mu2 header as\n",
    "# complementary information\n",
    "xml_str = scoreConverter.txt_mu2_to_musicxml(txt_filename, mu2_filename, out=None,\n",
    "                                             symbtr_name=symbtr_name, mbid=mbid)\n"
   ]
  },
  {
   "cell_type": "code",
   "execution_count": null,
   "metadata": {
    "collapsed": true
   },
   "outputs": [],
   "source": []
  }
 ],
 "metadata": {
  "kernelspec": {
   "display_name": "Python 2",
   "language": "python",
   "name": "python2"
  },
  "language_info": {
   "codemirror_mode": {
    "name": "ipython",
    "version": 2
   },
   "file_extension": ".py",
   "mimetype": "text/x-python",
   "name": "python",
   "nbconvert_exporter": "python",
   "pygments_lexer": "ipython2",
   "version": "2.7.6"
  }
 },
 "nbformat": 4,
 "nbformat_minor": 0
}
