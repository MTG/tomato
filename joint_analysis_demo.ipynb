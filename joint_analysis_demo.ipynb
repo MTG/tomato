{
 "cells": [
  {
   "cell_type": "code",
   "execution_count": 1,
   "metadata": {
    "collapsed": true
   },
   "outputs": [],
   "source": [
    "%matplotlib inline\n",
    "import os\n",
    "from tomato.audio.AudioAnalyzer import AudioAnalyzer\n",
    "from tomato.symbolic.SymbTrAnalyzer import SymbTrAnalyzer\n",
    "from tomato.joint.JointAnalyzer import JointAnalyzer\n",
    "import pylab\n",
    "pylab.rcParams['figure.figsize'] = (20, 8)\n"
   ]
  },
  {
   "cell_type": "markdown",
   "metadata": {},
   "source": [
    "JointAnalyzer assumes the individual audio analysis and score analysis is applied earlier. "
   ]
  },
  {
   "cell_type": "code",
   "execution_count": 2,
   "metadata": {
    "collapsed": false
   },
   "outputs": [],
   "source": [
    "# instantiate\n",
    "audio_filepath = os.path.join('ussak--sazsemaisi--aksaksemai----neyzen_aziz_dede',\n",
    "                              'f970f1e0-0be9-4914-8302-709a0eac088e',\n",
    "                              'f970f1e0-0be9-4914-8302-709a0eac088e.mp3')\n",
    "audio_feature_filepath = os.path.join('ussak--sazsemaisi--aksaksemai----neyzen_aziz_dede',\n",
    "                                      'f970f1e0-0be9-4914-8302-709a0eac088e',\n",
    "                                      'f970f1e0-0be9-4914-8302-709a0eac088e.pkl')\n",
    "audio_features = AudioAnalyzer.from_pickle(audio_feature_filepath)\n",
    "\n",
    "# score filepaths\n",
    "score_filepath = os.path.join('ussak--sazsemaisi--aksaksemai----neyzen_aziz_dede',\n",
    "                              'ussak--sazsemaisi--aksaksemai----neyzen_aziz_dede.txt')\n",
    "score_feature_filepath = os.path.join('ussak--sazsemaisi--aksaksemai----neyzen_aziz_dede',\n",
    "                                      'ussak--sazsemaisi--aksaksemai----neyzen_aziz_dede.pkl')\n",
    "score_features = SymbTrAnalyzer.from_pickle(score_feature_filepath)\n",
    "\n",
    "# instantiate analyzer object\n",
    "jointAnalyzer = JointAnalyzer(verbose=True)\n"
   ]
  },
  {
   "cell_type": "code",
   "execution_count": null,
   "metadata": {
    "collapsed": true
   },
   "outputs": [],
   "source": []
  }
 ],
 "metadata": {
  "kernelspec": {
   "display_name": "Python 2",
   "language": "python",
   "name": "python2"
  },
  "language_info": {
   "codemirror_mode": {
    "name": "ipython",
    "version": 2
   },
   "file_extension": ".py",
   "mimetype": "text/x-python",
   "name": "python",
   "nbconvert_exporter": "python",
   "pygments_lexer": "ipython2",
   "version": "2.7.11"
  }
 },
 "nbformat": 4,
 "nbformat_minor": 0
}
