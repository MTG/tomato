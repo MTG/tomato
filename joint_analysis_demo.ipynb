{
 "cells": [
  {
   "cell_type": "code",
   "execution_count": 1,
   "metadata": {
    "collapsed": false
   },
   "outputs": [],
   "source": [
    "%matplotlib inline\n",
    "import os\n",
    "from tomato.audio.AudioAnalyzer import AudioAnalyzer\n",
    "from tomato.symbolic.SymbTrAnalyzer import SymbTrAnalyzer\n",
    "from tomato.joint.JointAnalyzer import JointAnalyzer\n",
    "import pylab\n",
    "pylab.rcParams['figure.figsize'] = (20, 8)\n"
   ]
  },
  {
   "cell_type": "markdown",
   "metadata": {},
   "source": [
    "JointAnalyzer assumes the individual audio analysis and score analysis is applied earlier. "
   ]
  },
  {
   "cell_type": "code",
   "execution_count": 2,
   "metadata": {
    "collapsed": false
   },
   "outputs": [],
   "source": [
    "# instantiate\n",
    "audio_filepath = os.path.join('ussak--sazsemaisi--aksaksemai----neyzen_aziz_dede',\n",
    "                              'f970f1e0-0be9-4914-8302-709a0eac088e',\n",
    "                              'f970f1e0-0be9-4914-8302-709a0eac088e.mp3')\n",
    "audio_feature_filepath = os.path.join('ussak--sazsemaisi--aksaksemai----neyzen_aziz_dede',\n",
    "                                      'f970f1e0-0be9-4914-8302-709a0eac088e',\n",
    "                                      'f970f1e0-0be9-4914-8302-709a0eac088e.pkl')\n",
    "audio_features = AudioAnalyzer.from_pickle(audio_feature_filepath)\n",
    "\n",
    "# score filepaths\n",
    "score_filepath = os.path.join('ussak--sazsemaisi--aksaksemai----neyzen_aziz_dede',\n",
    "                              'ussak--sazsemaisi--aksaksemai----neyzen_aziz_dede.txt')\n",
    "score_feature_filepath = os.path.join('ussak--sazsemaisi--aksaksemai----neyzen_aziz_dede',\n",
    "                                      'ussak--sazsemaisi--aksaksemai----neyzen_aziz_dede.pkl')\n",
    "score_features = SymbTrAnalyzer.from_pickle(score_feature_filepath)\n",
    "\n",
    "# instantiate analyzer objects\n",
    "jointAnalyzer = JointAnalyzer(verbose=True)\n",
    "audioAnalyzer = AudioAnalyzer(verbose=True)\n"
   ]
  },
  {
   "cell_type": "markdown",
   "metadata": {},
   "source": [
    "You can use the single line call \"analyze,\" which does all the available analysis simultaneously"
   ]
  },
  {
   "cell_type": "code",
   "execution_count": 3,
   "metadata": {
    "collapsed": false
   },
   "outputs": [
    {
     "name": "stdout",
     "output_type": "stream",
     "text": [
      "- Extracting score-informed tonic and tempo of ussak--sazsemaisi--aksaksemai----neyzen_aziz_dede/f970f1e0-0be9-4914-8302-709a0eac088e/f970f1e0-0be9-4914-8302-709a0eac088e.mp3\n",
      "- Aligning audio recording ussak--sazsemaisi--aksaksemai----neyzen_aziz_dede/f970f1e0-0be9-4914-8302-709a0eac088e/f970f1e0-0be9-4914-8302-709a0eac088e.mp3 and music score ussak--sazsemaisi--aksaksemai----neyzen_aziz_dede/ussak--sazsemaisi--aksaksemai----neyzen_aziz_dede.txt.\n",
      "- Filtering predominant melody of ussak--sazsemaisi--aksaksemai----neyzen_aziz_dede/f970f1e0-0be9-4914-8302-709a0eac088e/f970f1e0-0be9-4914-8302-709a0eac088e.mp3 after audio-score alignment.\n",
      "- Computing the note models for ussak--sazsemaisi--aksaksemai----neyzen_aziz_dede/f970f1e0-0be9-4914-8302-709a0eac088e/f970f1e0-0be9-4914-8302-709a0eac088e.mp3\n",
      "- Obtaining the melodic progression model of ussak--sazsemaisi--aksaksemai----neyzen_aziz_dede/f970f1e0-0be9-4914-8302-709a0eac088e/f970f1e0-0be9-4914-8302-709a0eac088e.mp3\n",
      "- Computing pitch distribution of ussak--sazsemaisi--aksaksemai----neyzen_aziz_dede/f970f1e0-0be9-4914-8302-709a0eac088e/f970f1e0-0be9-4914-8302-709a0eac088e.mp3\n",
      "- Identifying the transposition of ussak--sazsemaisi--aksaksemai----neyzen_aziz_dede/f970f1e0-0be9-4914-8302-709a0eac088e/f970f1e0-0be9-4914-8302-709a0eac088e.mp3\n"
     ]
    }
   ],
   "source": [
    "# joint analysis\n",
    "joint_features, score_informed_audio_features = jointAnalyzer.analyze(\n",
    "    score_filepath, score_features, audio_filepath, audio_features['pitch'])\n",
    "\n",
    "# redo some steps in audio analysis\n",
    "score_informed_audio_features = audioAnalyzer.update_analysis(score_informed_audio_features)\n",
    "\n",
    "# summarize all the features extracted from all sources\n",
    "summarized_features = jointAnalyzer.summarize(audio_features, score_features, \n",
    "                                              joint_features, score_informed_audio_features)\n"
   ]
  },
  {
   "cell_type": "markdown",
   "metadata": {},
   "source": [
    "... or call all the methods individually"
   ]
  },
  {
   "cell_type": "code",
   "execution_count": 4,
   "metadata": {
    "collapsed": false,
    "scrolled": true
   },
   "outputs": [
    {
     "name": "stdout",
     "output_type": "stream",
     "text": [
      "- Extracting score-informed tonic and tempo of ussak--sazsemaisi--aksaksemai----neyzen_aziz_dede/f970f1e0-0be9-4914-8302-709a0eac088e/f970f1e0-0be9-4914-8302-709a0eac088e.mp3\n",
      "- Aligning audio recording ussak--sazsemaisi--aksaksemai----neyzen_aziz_dede/f970f1e0-0be9-4914-8302-709a0eac088e/f970f1e0-0be9-4914-8302-709a0eac088e.mp3 and music score ussak--sazsemaisi--aksaksemai----neyzen_aziz_dede/ussak--sazsemaisi--aksaksemai----neyzen_aziz_dede.txt.\n",
      "- Filtering predominant melody of ussak--sazsemaisi--aksaksemai----neyzen_aziz_dede/f970f1e0-0be9-4914-8302-709a0eac088e/f970f1e0-0be9-4914-8302-709a0eac088e.mp3 after audio-score alignment.\n",
      "- Computing the note models for ussak--sazsemaisi--aksaksemai----neyzen_aziz_dede/f970f1e0-0be9-4914-8302-709a0eac088e/f970f1e0-0be9-4914-8302-709a0eac088e.mp3\n",
      "- Obtaining the melodic progression model of ussak--sazsemaisi--aksaksemai----neyzen_aziz_dede/f970f1e0-0be9-4914-8302-709a0eac088e/f970f1e0-0be9-4914-8302-709a0eac088e.mp3\n",
      "- Computing pitch distribution of ussak--sazsemaisi--aksaksemai----neyzen_aziz_dede/f970f1e0-0be9-4914-8302-709a0eac088e/f970f1e0-0be9-4914-8302-709a0eac088e.mp3\n",
      "- Identifying the transposition of ussak--sazsemaisi--aksaksemai----neyzen_aziz_dede/f970f1e0-0be9-4914-8302-709a0eac088e/f970f1e0-0be9-4914-8302-709a0eac088e.mp3\n"
     ]
    }
   ],
   "source": [
    "# joint analysis\n",
    "# joint, score-informed tonic and tempo estimation\n",
    "tonic, tempo = jointAnalyzer.extract_tonic_tempo(score_filepath, score_features,\n",
    "                                                 audio_filepath, audio_features['pitch'])\n",
    "\n",
    "# section linking and note-level alignment\n",
    "sections, notes, section_candidates = jointAnalyzer.align_audio_score(\n",
    "    score_filepath, score_features, audio_filepath, audio_features['pitch'], tonic, tempo)\n",
    "\n",
    "# aligned pitch filter\n",
    "pitch_filtered, notes_filtered = jointAnalyzer.filter_pitch(audio_features['pitch'], notes)\n",
    "\n",
    "# aligned note model\n",
    "note_models, pitch_distribution, aligned_tonic = jointAnalyzer.get_note_models(\n",
    "    pitch_filtered, notes_filtered, tonic['symbol'])\n",
    "\n",
    "# recompute the audio features using the filtered pitch and tonic\n",
    "# get the melodic progression model\n",
    "melodic_progression = audioAnalyzer.get_melodic_progression(pitch_filtered)\n",
    "\n",
    "# pitch class distribution\n",
    "pitch_distribution = audioAnalyzer.compute_pitch_distribution(pitch_filtered, tonic)\n",
    "pitch_class_distribution = pitch_distribution.to_pcd()\n",
    "\n",
    "# transposition (ahenk) identification\n",
    "ahenk = audioAnalyzer.identify_transposition(aligned_tonic, aligned_tonic['symbol'])\n"
   ]
  }
 ],
 "metadata": {
  "kernelspec": {
   "display_name": "Python 2",
   "language": "python",
   "name": "python2"
  },
  "language_info": {
   "codemirror_mode": {
    "name": "ipython",
    "version": 2
   },
   "file_extension": ".py",
   "mimetype": "text/x-python",
   "name": "python",
   "nbconvert_exporter": "python",
   "pygments_lexer": "ipython2",
   "version": "2.7.11"
  }
 },
 "nbformat": 4,
 "nbformat_minor": 0
}
