{
 "cells": [
  {
   "cell_type": "code",
   "execution_count": 1,
   "metadata": {
    "collapsed": false
   },
   "outputs": [],
   "source": [
    "%matplotlib inline\n",
    "import os\n",
    "from tomato.audio.AudioAnalyzer import AudioAnalyzer\n",
    "from tomato.symbolic.SymbTrAnalyzer import SymbTrAnalyzer\n",
    "from tomato.joint.JointAnalyzer import JointAnalyzer\n",
    "import pylab\n",
    "pylab.rcParams['figure.figsize'] = (20, 8)\n"
   ]
  },
  {
   "cell_type": "markdown",
   "metadata": {},
   "source": [
    "JointAnalyzer assumes the individual audio analysis and score analysis is applied earlier. "
   ]
  },
  {
   "cell_type": "code",
   "execution_count": 5,
   "metadata": {
    "collapsed": false
   },
   "outputs": [],
   "source": [
    "# instantiate\n",
    "audio_filepath = os.path.join('ussak--sazsemaisi--aksaksemai----neyzen_aziz_dede',\n",
    "                              'f970f1e0-0be9-4914-8302-709a0eac088e',\n",
    "                              'f970f1e0-0be9-4914-8302-709a0eac088e.mp3')\n",
    "audio_feature_filepath = os.path.join('ussak--sazsemaisi--aksaksemai----neyzen_aziz_dede',\n",
    "                                      'f970f1e0-0be9-4914-8302-709a0eac088e',\n",
    "                                      'f970f1e0-0be9-4914-8302-709a0eac088e.pkl')\n",
    "audio_features = AudioAnalyzer.from_pickle(audio_feature_filepath)\n",
    "\n",
    "# score filepaths\n",
    "score_filepath = os.path.join('ussak--sazsemaisi--aksaksemai----neyzen_aziz_dede',\n",
    "                              'ussak--sazsemaisi--aksaksemai----neyzen_aziz_dede.txt')\n",
    "score_feature_filepath = os.path.join('ussak--sazsemaisi--aksaksemai----neyzen_aziz_dede',\n",
    "                                      'ussak--sazsemaisi--aksaksemai----neyzen_aziz_dede.pkl')\n",
    "score_features = SymbTrAnalyzer.from_pickle(score_feature_filepath)\n",
    "\n",
    "# instantiate analyzer objects\n",
    "jointAnalyzer = JointAnalyzer(verbose=True)\n",
    "audioAnalyzer = AudioAnalyzer(verbose=True)\n"
   ]
  },
  {
   "cell_type": "markdown",
   "metadata": {},
   "source": [
    "You can use the single line call \"analyze,\" which does all the available analysis simultaneously"
   ]
  },
  {
   "cell_type": "code",
   "execution_count": null,
   "metadata": {
    "collapsed": false
   },
   "outputs": [],
   "source": [
    "# joint analysis\n",
    "joint_features = jointAnalyzer.analyze(score_filepath, score_features,\n",
    "                                       audio_filepath, audio_features['pitch'])"
   ]
  },
  {
   "cell_type": "markdown",
   "metadata": {},
   "source": [
    "... or call all the methods individually"
   ]
  },
  {
   "cell_type": "code",
   "execution_count": null,
   "metadata": {
    "collapsed": false,
    "scrolled": true
   },
   "outputs": [],
   "source": [
    "# joint analysis\n",
    "# joint, score-informed tonic and tempo estimation\n",
    "tonic, tempo = jointAnalyzer.extract_tonic_tempo(score_filepath, score_features,\n",
    "                                                 audio_filepath, audio_features['pitch'])\n",
    "\n",
    "# section linking and note-level alignment\n",
    "sections, notes, section_candidates = jointAnalyzer.align_audio_score(\n",
    "    score_filepath, score_features, audio_filepath, audio_features['pitch'], tonic, tempo)\n",
    "\n",
    "# aligned pitch filter\n",
    "pitch_filtered, notes_filtered = jointAnalyzer.filter_pitch(audio_features['pitch'], notes)\n",
    "\n",
    "# aligned note model\n",
    "note_models, pitch_distribution, aligned_tonic = jointAnalyzer.get_note_models(\n",
    "    pitch_filtered, notes_filtered, tonic['symbol'])\n"
   ]
  },
  {
   "cell_type": "markdown",
   "metadata": {},
   "source": [
    "Then you can recompute the audio features using the filtered pitch and tonic"
   ]
  },
  {
   "cell_type": "code",
   "execution_count": 7,
   "metadata": {
    "collapsed": false
   },
   "outputs": [
    {
     "name": "stdout",
     "output_type": "stream",
     "text": [
      "- Obtaining the melodic progression model of ussak--sazsemaisi--aksaksemai----neyzen_aziz_dede/f970f1e0-0be9-4914-8302-709a0eac088e/f970f1e0-0be9-4914-8302-709a0eac088e.mp3\n"
     ]
    },
    {
     "ename": "NameError",
     "evalue": "name 'pitch_distribution' is not defined",
     "output_type": "error",
     "traceback": [
      "\u001b[0;31m---------------------------------------------------------------------------\u001b[0m",
      "\u001b[0;31mNameError\u001b[0m                                 Traceback (most recent call last)",
      "\u001b[0;32m<ipython-input-7-c0edc451574f>\u001b[0m in \u001b[0;36m<module>\u001b[0;34m()\u001b[0m\n\u001b[1;32m      4\u001b[0m \u001b[0;34m\u001b[0m\u001b[0m\n\u001b[1;32m      5\u001b[0m \u001b[0;31m# pitch class distribution\u001b[0m\u001b[0;34m\u001b[0m\u001b[0;34m\u001b[0m\u001b[0m\n\u001b[0;32m----> 6\u001b[0;31m \u001b[0mpitch_class_distribution\u001b[0m \u001b[0;34m=\u001b[0m \u001b[0mpitch_distribution\u001b[0m\u001b[0;34m.\u001b[0m\u001b[0mto_pcd\u001b[0m\u001b[0;34m(\u001b[0m\u001b[0;34m)\u001b[0m\u001b[0;34m\u001b[0m\u001b[0m\n\u001b[0m\u001b[1;32m      7\u001b[0m \u001b[0;34m\u001b[0m\u001b[0m\n\u001b[1;32m      8\u001b[0m \u001b[0;31m# transposition (ahenk) identification\u001b[0m\u001b[0;34m\u001b[0m\u001b[0;34m\u001b[0m\u001b[0m\n",
      "\u001b[0;31mNameError\u001b[0m: name 'pitch_distribution' is not defined"
     ]
    }
   ],
   "source": [
    "# recompute the audio features\n",
    "# get the melodic progression model\n",
    "melodic_progression = audioAnalyzer.get_melodic_progression(pitch_filtered)\n",
    "\n",
    "# pitch class distribution\n",
    "pitch_class_distribution = pitch_distribution.to_pcd()\n",
    "\n",
    "# transposition (ahenk) identification\n",
    "ahenk = audioAnalyzer.identify_ahenk(aligned_tonic, aligned_tonic['symbol'])\n"
   ]
  },
  {
   "cell_type": "code",
   "execution_count": 13,
   "metadata": {
    "collapsed": false
   },
   "outputs": [
    {
     "ename": "KeyError",
     "evalue": "'procedure'",
     "output_type": "error",
     "traceback": [
      "\u001b[0;31m---------------------------------------------------------------------------\u001b[0m",
      "\u001b[0;31mKeyError\u001b[0m                                  Traceback (most recent call last)",
      "\u001b[0;32m<ipython-input-13-df904223d266>\u001b[0m in \u001b[0;36m<module>\u001b[0;34m()\u001b[0m\n\u001b[0;32m----> 1\u001b[0;31m \u001b[0mpitch_filtered\u001b[0m\u001b[0;34m[\u001b[0m\u001b[0;34m'procedure'\u001b[0m\u001b[0;34m]\u001b[0m\u001b[0;34m\u001b[0m\u001b[0m\n\u001b[0m",
      "\u001b[0;31mKeyError\u001b[0m: 'procedure'"
     ]
    }
   ],
   "source": [
    "pitch_filtered['procedure']"
   ]
  }
 ],
 "metadata": {
  "kernelspec": {
   "display_name": "Python 2",
   "language": "python",
   "name": "python2"
  },
  "language_info": {
   "codemirror_mode": {
    "name": "ipython",
    "version": 2
   },
   "file_extension": ".py",
   "mimetype": "text/x-python",
   "name": "python",
   "nbconvert_exporter": "python",
   "pygments_lexer": "ipython2",
   "version": "2.7.11"
  }
 },
 "nbformat": 4,
 "nbformat_minor": 0
}
